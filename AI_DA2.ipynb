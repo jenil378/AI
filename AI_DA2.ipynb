{
 "cells": [
  {
   "cell_type": "markdown",
   "metadata": {},
   "source": [
    "# Solving the 8 Puzzle Problem using Hill Climbing Algorithm\n",
    "\n",
    "This notebook demonstrates solving the 8 Puzzle problem using the Hill Climbing algorithm in Python.  \n",
    "We will:\n",
    "- Use the Manhattan distance heuristic to guide the search.\n",
    "- Analyze its limitations, including local maxima and plateaus.\n"
   ]
  },
  {
   "cell_type": "markdown",
   "metadata": {},
   "source": [
    "## Defining the 8 Puzzle Class\n",
    "\n",
    "We start by defining a class `EightPuzzle` that includes:\n",
    "- A constructor to initialize the puzzle.\n",
    "- Methods to calculate heuristic values (Manhattan distance and misplaced tiles).\n",
    "- A method to generate neighbors by moving the blank tile.\n",
    "- The `hill_climbing` method that implements the algorithm.\n"
   ]
  },
  {
   "cell_type": "code",
   "execution_count": 1,
   "metadata": {},
   "outputs": [],
   "source": [
    "# Importing necessary libraries\n",
    "import numpy as np\n",
    "import copy\n"
   ]
  },
  {
   "cell_type": "markdown",
   "metadata": {},
   "source": [
    "DEFINE  THE 8 PUZZLE CLASS"
   ]
  },
  {
   "cell_type": "code",
   "execution_count": 2,
   "metadata": {},
   "outputs": [],
   "source": [
    "# Define the heuristic function\n",
    "def manhattan_distance(state, goal):\n",
    "    \"\"\"Calculate the Manhattan distance heuristic for the 8 Puzzle.\"\"\"\n",
    "    distance = 0\n",
    "    for i in range(len(state)):\n",
    "        for j in range(len(state[i])):\n",
    "            if state[i][j] != 0:  # Ignore blank space\n",
    "                goal_x, goal_y = [(row, col) for row in range(3) for col in range(3) \n",
    "                                  if goal[row][col] == state[i][j]][0]\n",
    "                distance += abs(goal_x - i) + abs(goal_y - j)\n",
    "    return distance\n",
    "\n",
    "# Generate neighbors\n",
    "def get_neighbors(state):\n",
    "    \"\"\"Generate neighbors by moving the blank tile.\"\"\"\n",
    "    size = len(state)\n",
    "    neighbors = []\n",
    "    x, y = [(i, j) for i in range(size) for j in range(size) if state[i][j] == 0][0]\n",
    "\n",
    "    moves = [(x - 1, y), (x + 1, y), (x, y - 1), (x, y + 1)]\n",
    "    for new_x, new_y in moves:\n",
    "        if 0 <= new_x < size and 0 <= new_y < size:\n",
    "            new_state = copy.deepcopy(state)\n",
    "            new_state[x][y], new_state[new_x][new_y] = new_state[new_x][new_y], new_state[x][y]\n",
    "            neighbors.append(new_state)\n",
    "    return neighbors\n",
    "\n"
   ]
  },
  {
   "cell_type": "markdown",
   "metadata": {},
   "source": [
    "HILL CLIMBING"
   ]
  },
  {
   "cell_type": "code",
   "execution_count": 3,
   "metadata": {},
   "outputs": [],
   "source": [
    "def hill_climbing(initial, goal):\n",
    "    \"\"\"Solve the 8 Puzzle using Hill Climbing.\"\"\"\n",
    "    current = initial\n",
    "    current_h = manhattan_distance(current, goal)\n",
    "    steps = [current]\n",
    "\n",
    "    while current_h != 0:  # Until goal state is reached\n",
    "        neighbors = get_neighbors(current)\n",
    "        next_state = None\n",
    "        next_h = float('inf')\n",
    "\n",
    "        # Choose the neighbor with the lowest heuristic value\n",
    "        for neighbor in neighbors:\n",
    "            h = manhattan_distance(neighbor, goal)\n",
    "            if h < next_h:\n",
    "                next_state = neighbor\n",
    "                next_h = h\n",
    "\n",
    "        if next_h >= current_h:  # No improvement\n",
    "            print(\"Reached a plateau or local maximum.\")\n",
    "            return steps, False\n",
    "\n",
    "        current = next_state\n",
    "        current_h = next_h\n",
    "        steps.append(current)\n",
    "\n",
    "    return steps, True\n"
   ]
  },
  {
   "cell_type": "markdown",
   "metadata": {},
   "source": [
    "INPUT CELL"
   ]
  },
  {
   "cell_type": "code",
   "execution_count": 4,
   "metadata": {},
   "outputs": [
    {
     "name": "stdout",
     "output_type": "stream",
     "text": [
      "JENIL VEKARIYA 22BCE0329\n",
      "\n",
      "Case 1: Solvable Puzzle\n",
      "Steps:\n",
      "Step 1:\n",
      "[1, 2, 3]\n",
      "[4, 0, 6]\n",
      "[7, 5, 8]\n",
      "\n",
      "Step 2:\n",
      "[1, 2, 3]\n",
      "[4, 5, 6]\n",
      "[7, 0, 8]\n",
      "\n",
      "Step 3:\n",
      "[1, 2, 3]\n",
      "[4, 5, 6]\n",
      "[7, 8, 0]\n",
      "\n",
      "Solution found!\n",
      "\n",
      "Case 2: Unsolvable Puzzle\n",
      "Reached a plateau or local maximum.\n",
      "Steps:\n",
      "Step 1:\n",
      "[1, 2, 3]\n",
      "[4, 6, 5]\n",
      "[7, 8, 0]\n",
      "\n",
      "Failed to find solution due to local maxima or plateau.\n",
      "\n",
      "Case 3: Trivial Case\n",
      "Steps:\n",
      "Step 1:\n",
      "[1, 2, 3]\n",
      "[4, 5, 6]\n",
      "[7, 8, 0]\n",
      "\n",
      "Solution found!\n",
      "JENIL VEKARIYA 22BCE0329\n"
     ]
    }
   ],
   "source": [
    "# Static Test Cases\n",
    "\n",
    "# Case 1: Solvable Puzzle\n",
    "initial_state_1 = [\n",
    "    [1, 2, 3],\n",
    "    [4, 0, 6],\n",
    "    [7, 5, 8]\n",
    "]\n",
    "goal_state = [\n",
    "    [1, 2, 3],\n",
    "    [4, 5, 6],\n",
    "    [7, 8, 0]\n",
    "]\n",
    "\n",
    "# Case 2: Unsolvable Puzzle\n",
    "initial_state_2 = [\n",
    "    [1, 2, 3],\n",
    "    [4, 6, 5],\n",
    "    [7, 8, 0]\n",
    "]\n",
    "\n",
    "# Case 3: Trivial Case (Initial state is the goal state)\n",
    "initial_state_3 = [\n",
    "    [1, 2, 3],\n",
    "    [4, 5, 6],\n",
    "    [7, 8, 0]\n",
    "]\n",
    "\n",
    "# Run the Hill Climbing Algorithm for all cases\n",
    "cases = [initial_state_1, initial_state_2, initial_state_3]\n",
    "case_names = [\"Case 1: Solvable Puzzle\", \"Case 2: Unsolvable Puzzle\", \"Case 3: Trivial Case\"]\n",
    "print('JENIL VEKARIYA 22BCE0329')\n",
    "for i, initial_state in enumerate(cases):\n",
    "    print(f\"\\n{case_names[i]}\")\n",
    "    steps, success = hill_climbing(initial_state, goal_state)\n",
    "\n",
    "    print(\"Steps:\")\n",
    "    for step_num, step in enumerate(steps, 1):\n",
    "        print(f\"Step {step_num}:\")\n",
    "        for row in step:\n",
    "            print(row)\n",
    "        print()\n",
    "\n",
    "    if success:\n",
    "        print(\"Solution found!\")\n",
    "    else:\n",
    "        print(\"Failed to find solution due to local maxima or plateau.\")\n",
    "print('JENIL VEKARIYA 22BCE0329')"
   ]
  },
  {
   "cell_type": "markdown",
   "metadata": {},
   "source": [
    "Definition"
   ]
  },
  {
   "cell_type": "code",
   "execution_count": 5,
   "metadata": {},
   "outputs": [],
   "source": [
    "import numpy as np\n",
    "P_Cloudy = 0.5\n",
    "P_Sprinkler_given_Cloudy = {True: 0.1, False: 0.5}\n",
    "P_Rain_given_Cloudy = {True: 0.8, False: 0.2} \n",
    "P_WetGrass_given_Sprinkler_Rain = {\n",
    "(True, True): 0.99,\n",
    "(True, False): 0.90,\n",
    "(False, True): 0.80,\n",
    " \n",
    "(False, False): 0.00\n",
    "}\n"
   ]
  },
  {
   "cell_type": "markdown",
   "metadata": {},
   "source": [
    "Simulation"
   ]
  },
  {
   "cell_type": "code",
   "execution_count": 6,
   "metadata": {},
   "outputs": [
    {
     "name": "stdout",
     "output_type": "stream",
     "text": [
      "Estimated P(WetGrass=True | Rain=True): 0.8376932223543401\n"
     ]
    }
   ],
   "source": [
    "def monte_carlo_simulation(num_samples=10000): \n",
    "    count_wet_grass_given_rain = 0\n",
    "    count_rain = 0\n",
    "    for _  in range(num_samples):\n",
    "        cloudy = np.random.rand() < P_Cloudy\n",
    "        sprinkler = np.random.rand() < P_Sprinkler_given_Cloudy[cloudy]\n",
    "        rain = np.random.rand() < P_Rain_given_Cloudy[cloudy]\n",
    "        wet_grass = np.random.rand() < P_WetGrass_given_Sprinkler_Rain[(sprinkler, rain)] \n",
    "        if rain:\n",
    "         count_rain += 1 \n",
    "         if wet_grass:\n",
    "             count_wet_grass_given_rain += 1 \n",
    "    if count_rain == 0:\n",
    "        return 0\n",
    "    return count_wet_grass_given_rain / count_rain\n",
    "\n",
    "\n",
    "estimated_probability = monte_carlo_simulation()\n",
    "print(f\"Estimated P(WetGrass=True | Rain=True): {estimated_probability}\")\n"
   ]
  },
  {
   "cell_type": "markdown",
   "metadata": {},
   "source": [
    "Comparison"
   ]
  },
  {
   "cell_type": "code",
   "execution_count": 7,
   "metadata": {},
   "outputs": [
    {
     "name": "stdout",
     "output_type": "stream",
     "text": [
      "Estimated probabilities over 5 runs: [0.8365986669359725, 0.8336, 0.8276773013615119, 0.8500693206575559, 0.8336365474024662]\n",
      "Average estimated probability: 0.8363163672715013\n",
      "Known probability: 0.72\n",
      "Difference from known probability: 0.1163163672715013\n",
      "Jenil Vekariya 22BCE0329\n"
     ]
    }
   ],
   "source": [
    "known_probability = 0.72\n",
    "num_runs = 5\n",
    "results = [monte_carlo_simulation(num_samples=10000) for _ in range(num_runs)]\n",
    "\n",
    "\n",
    "print(f\"Estimated probabilities over {num_runs} runs: {results}\")\n",
    "print(f\"Average estimated probability: {np.mean(results)}\")\n",
    "print(f\"Known probability: {known_probability}\")\n",
    "print(f\"Difference from known probability: {np.abs(np.mean(results) - known_probability)}\")\n",
    "print(\"Jenil Vekariya 22BCE0329\")"
   ]
  }
 ],
 "metadata": {
  "kernelspec": {
   "display_name": "base",
   "language": "python",
   "name": "python3"
  },
  "language_info": {
   "codemirror_mode": {
    "name": "ipython",
    "version": 3
   },
   "file_extension": ".py",
   "mimetype": "text/x-python",
   "name": "python",
   "nbconvert_exporter": "python",
   "pygments_lexer": "ipython3",
   "version": "3.11.4"
  }
 },
 "nbformat": 4,
 "nbformat_minor": 2
}
